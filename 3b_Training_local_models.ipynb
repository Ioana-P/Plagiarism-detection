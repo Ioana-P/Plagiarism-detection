{
 "cells": [
  {
   "cell_type": "markdown",
   "metadata": {},
   "source": [
    "# Plagiarism detector\n",
    "\n",
    "In this notebook we will\n",
    "\n",
    "- be using and evaluating several different Sklearn classifiers for binary classification and \n",
    "- be performing and evaluation our classifiers on multiclass data"
   ]
  },
  {
   "cell_type": "code",
   "execution_count": 16,
   "metadata": {},
   "outputs": [
    {
     "name": "stdout",
     "output_type": "stream",
     "text": [
      "The autoreload extension is already loaded. To reload it, use:\n",
      "  %reload_ext autoreload\n"
     ]
    }
   ],
   "source": [
    "from sklearn.tree import DecisionTreeClassifier\n",
    "from sklearn.ensemble import RandomForestClassifier\n",
    "from sklearn.model_selection import GridSearchCV\n",
    "from sklearn.svm import SVC\n",
    "from sklearn.neighbors import KNeighborsClassifier\n",
    "\n",
    "from sklearn.metrics import roc_auc_score, roc_curve, confusion_matrix, accuracy_score\n",
    "\n",
    "import matplotlib.pyplot as plt\n",
    "import pandas as pd\n",
    "import numpy as np\n",
    "import seaborn as sns\n",
    "\n",
    "from sklearn.model_selection import train_test_split\n",
    "import helpers\n",
    "import warnings\n",
    "warnings.filterwarnings('once')\n",
    "\n",
    "sns.set_style('darkgrid')\n",
    "\n",
    "randomstate = 12345\n",
    "\n",
    "%load_ext autoreload\n",
    "%autoreload 2"
   ]
  },
  {
   "cell_type": "markdown",
   "metadata": {},
   "source": [
    "# Binary classification: plagiarised or not\n",
    "\n",
    "## Loading the train and test data"
   ]
  },
  {
   "cell_type": "code",
   "execution_count": 9,
   "metadata": {},
   "outputs": [],
   "source": [
    "# from nb 2 we pass the selected features as our column names\n",
    "binary_class_names = ['target','c_1', 'c_3','c_8', 'c_19', 'lcs_word']"
   ]
  },
  {
   "cell_type": "code",
   "execution_count": 10,
   "metadata": {},
   "outputs": [],
   "source": [
    "train_df = pd.read_csv('plagiarism_data/train.csv', header=0, names = binary_class_names)\n",
    "test_df = pd.read_csv('plagiarism_data/test.csv', header=0, names = binary_class_names)"
   ]
  },
  {
   "cell_type": "code",
   "execution_count": 11,
   "metadata": {},
   "outputs": [
    {
     "data": {
      "text/html": [
       "<div>\n",
       "<style scoped>\n",
       "    .dataframe tbody tr th:only-of-type {\n",
       "        vertical-align: middle;\n",
       "    }\n",
       "\n",
       "    .dataframe tbody tr th {\n",
       "        vertical-align: top;\n",
       "    }\n",
       "\n",
       "    .dataframe thead th {\n",
       "        text-align: right;\n",
       "    }\n",
       "</style>\n",
       "<table border=\"1\" class=\"dataframe\">\n",
       "  <thead>\n",
       "    <tr style=\"text-align: right;\">\n",
       "      <th></th>\n",
       "      <th>target</th>\n",
       "      <th>c_1</th>\n",
       "      <th>c_3</th>\n",
       "      <th>c_8</th>\n",
       "      <th>c_19</th>\n",
       "      <th>lcs_word</th>\n",
       "    </tr>\n",
       "  </thead>\n",
       "  <tbody>\n",
       "    <tr>\n",
       "      <th>0</th>\n",
       "      <td>1.0</td>\n",
       "      <td>0.869369</td>\n",
       "      <td>0.613636</td>\n",
       "      <td>0.265116</td>\n",
       "      <td>0.058824</td>\n",
       "      <td>0.846491</td>\n",
       "    </tr>\n",
       "    <tr>\n",
       "      <th>1</th>\n",
       "      <td>1.0</td>\n",
       "      <td>0.593583</td>\n",
       "      <td>0.156757</td>\n",
       "      <td>0.027778</td>\n",
       "      <td>0.000000</td>\n",
       "      <td>0.316062</td>\n",
       "    </tr>\n",
       "    <tr>\n",
       "      <th>2</th>\n",
       "      <td>0.0</td>\n",
       "      <td>0.544503</td>\n",
       "      <td>0.031746</td>\n",
       "      <td>0.000000</td>\n",
       "      <td>0.000000</td>\n",
       "      <td>0.242574</td>\n",
       "    </tr>\n",
       "    <tr>\n",
       "      <th>3</th>\n",
       "      <td>0.0</td>\n",
       "      <td>0.329502</td>\n",
       "      <td>0.007722</td>\n",
       "      <td>0.000000</td>\n",
       "      <td>0.000000</td>\n",
       "      <td>0.161172</td>\n",
       "    </tr>\n",
       "    <tr>\n",
       "      <th>4</th>\n",
       "      <td>0.0</td>\n",
       "      <td>0.590308</td>\n",
       "      <td>0.035556</td>\n",
       "      <td>0.000000</td>\n",
       "      <td>0.000000</td>\n",
       "      <td>0.301653</td>\n",
       "    </tr>\n",
       "  </tbody>\n",
       "</table>\n",
       "</div>"
      ],
      "text/plain": [
       "   target       c_1       c_3       c_8      c_19  lcs_word\n",
       "0     1.0  0.869369  0.613636  0.265116  0.058824  0.846491\n",
       "1     1.0  0.593583  0.156757  0.027778  0.000000  0.316062\n",
       "2     0.0  0.544503  0.031746  0.000000  0.000000  0.242574\n",
       "3     0.0  0.329502  0.007722  0.000000  0.000000  0.161172\n",
       "4     0.0  0.590308  0.035556  0.000000  0.000000  0.301653"
      ]
     },
     "execution_count": 11,
     "metadata": {},
     "output_type": "execute_result"
    }
   ],
   "source": [
    "train_df.head()"
   ]
  },
  {
   "cell_type": "code",
   "execution_count": 13,
   "metadata": {},
   "outputs": [
    {
     "name": "stdout",
     "output_type": "stream",
     "text": [
      "<class 'pandas.core.frame.DataFrame'>\n",
      "RangeIndex: 69 entries, 0 to 68\n",
      "Data columns (total 6 columns):\n",
      " #   Column    Non-Null Count  Dtype  \n",
      "---  ------    --------------  -----  \n",
      " 0   target    69 non-null     float64\n",
      " 1   c_1       69 non-null     float64\n",
      " 2   c_3       69 non-null     float64\n",
      " 3   c_8       69 non-null     float64\n",
      " 4   c_19      69 non-null     float64\n",
      " 5   lcs_word  69 non-null     float64\n",
      "dtypes: float64(6)\n",
      "memory usage: 3.4 KB\n"
     ]
    }
   ],
   "source": [
    "train_df.info()"
   ]
  },
  {
   "cell_type": "markdown",
   "metadata": {},
   "source": [
    "## GridSearchCV for cross-validation and model tuning\n",
    "### Decision Tree"
   ]
  },
  {
   "cell_type": "code",
   "execution_count": 23,
   "metadata": {},
   "outputs": [
    {
     "name": "stdout",
     "output_type": "stream",
     "text": [
      "Fitting 10 folds for each of 60 candidates, totalling 600 fits\n"
     ]
    },
    {
     "name": "stderr",
     "output_type": "stream",
     "text": [
      "[Parallel(n_jobs=-1)]: Using backend LokyBackend with 8 concurrent workers.\n",
      "[Parallel(n_jobs=-1)]: Done  56 tasks      | elapsed:    0.2s\n",
      "[Parallel(n_jobs=-1)]: Done 600 out of 600 | elapsed:    0.9s finished\n"
     ]
    }
   ],
   "source": [
    "dectree = DecisionTreeClassifier(random_state=randomstate)\n",
    "\n",
    "hyperparam_dict = {'criterion':['gini', 'entropy'],\n",
    "                  'max_depth':list(range(2,8)),\n",
    "                  'min_samples_split':[.1, .15,.2,.25,.3],\n",
    "                  }\n",
    "\n",
    "\n",
    "grid = GridSearchCV(dectree,\n",
    "                   hyperparam_dict,\n",
    "                   scoring='roc_auc', \n",
    "                    n_jobs=-1, \n",
    "                    cv=10, verbose = 1)\n",
    "\n",
    "opt_grid = grid.fit(train_df.drop(columns='target'), train_df['target'])\n",
    "\n",
    "best_tree = opt_grid.best_estimator_"
   ]
  },
  {
   "cell_type": "code",
   "execution_count": 24,
   "metadata": {},
   "outputs": [
    {
     "data": {
      "text/plain": [
       "{'ccp_alpha': 0.0,\n",
       " 'class_weight': None,\n",
       " 'criterion': 'gini',\n",
       " 'max_depth': 4,\n",
       " 'max_features': None,\n",
       " 'max_leaf_nodes': None,\n",
       " 'min_impurity_decrease': 0.0,\n",
       " 'min_impurity_split': None,\n",
       " 'min_samples_leaf': 1,\n",
       " 'min_samples_split': 0.15,\n",
       " 'min_weight_fraction_leaf': 0.0,\n",
       " 'presort': 'deprecated',\n",
       " 'random_state': 12345,\n",
       " 'splitter': 'best'}"
      ]
     },
     "execution_count": 24,
     "metadata": {},
     "output_type": "execute_result"
    }
   ],
   "source": [
    "best_tree.get_params()"
   ]
  },
  {
   "cell_type": "code",
   "execution_count": 25,
   "metadata": {},
   "outputs": [
    {
     "data": {
      "text/plain": [
       "0.9761904761904762"
      ]
     },
     "execution_count": 25,
     "metadata": {},
     "output_type": "execute_result"
    }
   ],
   "source": [
    "train_y_preds = best_tree.predict(train_df.drop(columns='target'))\n",
    "train_y_actual = train_df['target']\n",
    "\n",
    "roc_auc_score(train_y_actual, train_y_preds)"
   ]
  },
  {
   "cell_type": "markdown",
   "metadata": {},
   "source": [
    "This score surpasses the one we achieved in notebook 3a (roc_auc - 0.95), and without going to the limits of the maximum depth of tree. We won't go further in exploring the lower range of minimum samples for split since its best choice, 0.1, represents less than 10 data points. Let's see if we can improve on that with the other classifiers. "
   ]
  },
  {
   "cell_type": "markdown",
   "metadata": {},
   "source": [
    "### Support Vector machine"
   ]
  },
  {
   "cell_type": "code",
   "execution_count": 31,
   "metadata": {},
   "outputs": [
    {
     "name": "stdout",
     "output_type": "stream",
     "text": [
      "Fitting 10 folds for each of 4050 candidates, totalling 40500 fits\n"
     ]
    },
    {
     "name": "stderr",
     "output_type": "stream",
     "text": [
      "[Parallel(n_jobs=-1)]: Using backend LokyBackend with 8 concurrent workers.\n",
      "[Parallel(n_jobs=-1)]: Done  34 tasks      | elapsed:    2.3s\n",
      "[Parallel(n_jobs=-1)]: Done 1680 tasks      | elapsed:    5.4s\n",
      "[Parallel(n_jobs=-1)]: Done 5680 tasks      | elapsed:   13.2s\n",
      "[Parallel(n_jobs=-1)]: Done 11280 tasks      | elapsed:   24.5s\n",
      "[Parallel(n_jobs=-1)]: Done 18480 tasks      | elapsed:   40.5s\n",
      "[Parallel(n_jobs=-1)]: Done 27280 tasks      | elapsed:  1.0min\n",
      "[Parallel(n_jobs=-1)]: Done 37680 tasks      | elapsed:  1.4min\n",
      "[Parallel(n_jobs=-1)]: Done 40500 out of 40500 | elapsed:  1.6min finished\n"
     ]
    }
   ],
   "source": [
    "svclass = SVC(random_state=randomstate, max_iter=1000)\n",
    "\n",
    "C_list = [x/10 for x in list(range(10,100,2))]\n",
    "tol_list = [x/1000 for x in list(range(1, 1000, 100))]\n",
    "hyperparam_dict = {'C':C_list,\n",
    "                  'kernel':['rbf', 'linear', 'poly'],\n",
    "                   'degree':[1,2,3],\n",
    "                  'tol':tol_list\n",
    "                  }\n",
    "\n",
    "\n",
    "grid = GridSearchCV(svclass,\n",
    "                   hyperparam_dict,\n",
    "                   scoring='roc_auc', \n",
    "                    n_jobs=-1, \n",
    "                    cv=10, verbose = 1)\n",
    "\n",
    "opt_grid = grid.fit(train_df.drop(columns='target'), train_df['target'])\n",
    "\n",
    "best_svc = opt_grid.best_estimator_"
   ]
  },
  {
   "cell_type": "code",
   "execution_count": 32,
   "metadata": {},
   "outputs": [
    {
     "data": {
      "text/plain": [
       "{'C': 1.0,\n",
       " 'break_ties': False,\n",
       " 'cache_size': 200,\n",
       " 'class_weight': None,\n",
       " 'coef0': 0.0,\n",
       " 'decision_function_shape': 'ovr',\n",
       " 'degree': 1,\n",
       " 'gamma': 'scale',\n",
       " 'kernel': 'linear',\n",
       " 'max_iter': 1000,\n",
       " 'probability': False,\n",
       " 'random_state': 12345,\n",
       " 'shrinking': True,\n",
       " 'tol': 0.001,\n",
       " 'verbose': False}"
      ]
     },
     "execution_count": 32,
     "metadata": {},
     "output_type": "execute_result"
    }
   ],
   "source": [
    "best_svc.get_params()"
   ]
  },
  {
   "cell_type": "code",
   "execution_count": 33,
   "metadata": {},
   "outputs": [
    {
     "data": {
      "text/plain": [
       "0.9166666666666667"
      ]
     },
     "execution_count": 33,
     "metadata": {},
     "output_type": "execute_result"
    }
   ],
   "source": [
    "train_y_preds = best_svc.predict(train_df.drop(columns='target'))\n",
    "train_y_actual = train_df['target']\n",
    "\n",
    "roc_auc_score(train_y_actual, train_y_preds)"
   ]
  },
  {
   "cell_type": "markdown",
   "metadata": {},
   "source": [
    "Unfortunately the Support Vector Machine wasn't able to outdo our decision tree and find a good split across the total space of features."
   ]
  },
  {
   "cell_type": "markdown",
   "metadata": {},
   "source": [
    "### K-Nearest Neighbours Classifier"
   ]
  },
  {
   "cell_type": "code",
   "execution_count": 35,
   "metadata": {},
   "outputs": [
    {
     "name": "stdout",
     "output_type": "stream",
     "text": [
      "Fitting 10 folds for each of 20 candidates, totalling 200 fits\n"
     ]
    },
    {
     "name": "stderr",
     "output_type": "stream",
     "text": [
      "[Parallel(n_jobs=-1)]: Using backend LokyBackend with 8 concurrent workers.\n",
      "[Parallel(n_jobs=-1)]: Done  56 tasks      | elapsed:    0.3s\n",
      "[Parallel(n_jobs=-1)]: Done 200 out of 200 | elapsed:    0.5s finished\n"
     ]
    }
   ],
   "source": [
    "knn = KNeighborsClassifier()\n",
    "\n",
    "hyperparam_dict = {'n_neighbors':list(range(3,11,2)),\n",
    "                   'p':list(range(1,6))\n",
    "                  }\n",
    "\n",
    "\n",
    "grid = GridSearchCV(knn,\n",
    "                   hyperparam_dict,\n",
    "                   scoring='roc_auc', \n",
    "                    n_jobs=-1, \n",
    "                    cv=10, verbose = 1)\n",
    "\n",
    "opt_grid = grid.fit(train_df.drop(columns='target'), train_df['target'])\n",
    "\n",
    "best_knn = opt_grid.best_estimator_"
   ]
  },
  {
   "cell_type": "code",
   "execution_count": 36,
   "metadata": {},
   "outputs": [
    {
     "data": {
      "text/plain": [
       "{'algorithm': 'auto',\n",
       " 'leaf_size': 30,\n",
       " 'metric': 'minkowski',\n",
       " 'metric_params': None,\n",
       " 'n_jobs': None,\n",
       " 'n_neighbors': 3,\n",
       " 'p': 2,\n",
       " 'weights': 'uniform'}"
      ]
     },
     "execution_count": 36,
     "metadata": {},
     "output_type": "execute_result"
    }
   ],
   "source": [
    "best_knn.get_params()"
   ]
  },
  {
   "cell_type": "code",
   "execution_count": 37,
   "metadata": {},
   "outputs": [
    {
     "data": {
      "text/plain": [
       "0.9523809523809523"
      ]
     },
     "execution_count": 37,
     "metadata": {},
     "output_type": "execute_result"
    }
   ],
   "source": [
    "train_y_preds = best_knn.predict(train_df.drop(columns='target'))\n",
    "train_y_actual = train_df['target']\n",
    "\n",
    "roc_auc_score(train_y_actual, train_y_preds)"
   ]
  },
  {
   "cell_type": "markdown",
   "metadata": {},
   "source": [
    "We've improved on the scores of the SVC, equalling the random forest we had previously used. However, the Decision Tree is still the best model so far. "
   ]
  },
  {
   "cell_type": "markdown",
   "metadata": {},
   "source": [
    "## Random Forest"
   ]
  },
  {
   "cell_type": "code",
   "execution_count": 38,
   "metadata": {},
   "outputs": [
    {
     "name": "stdout",
     "output_type": "stream",
     "text": [
      "Fitting 10 folds for each of 900 candidates, totalling 9000 fits\n"
     ]
    },
    {
     "name": "stderr",
     "output_type": "stream",
     "text": [
      "[Parallel(n_jobs=-1)]: Using backend LokyBackend with 8 concurrent workers.\n",
      "[Parallel(n_jobs=-1)]: Done  52 tasks      | elapsed:    2.0s\n",
      "[Parallel(n_jobs=-1)]: Done 248 tasks      | elapsed:   13.1s\n",
      "[Parallel(n_jobs=-1)]: Done 498 tasks      | elapsed:   31.5s\n",
      "[Parallel(n_jobs=-1)]: Done 848 tasks      | elapsed:  1.0min\n",
      "[Parallel(n_jobs=-1)]: Done 1298 tasks      | elapsed:  1.7min\n",
      "[Parallel(n_jobs=-1)]: Done 1848 tasks      | elapsed:  2.6min\n",
      "[Parallel(n_jobs=-1)]: Done 2498 tasks      | elapsed:  3.5min\n",
      "[Parallel(n_jobs=-1)]: Done 3248 tasks      | elapsed:  4.8min\n",
      "[Parallel(n_jobs=-1)]: Done 4098 tasks      | elapsed:  6.0min\n",
      "[Parallel(n_jobs=-1)]: Done 5048 tasks      | elapsed:  7.5min\n",
      "[Parallel(n_jobs=-1)]: Done 6098 tasks      | elapsed:  9.1min\n",
      "[Parallel(n_jobs=-1)]: Done 7248 tasks      | elapsed: 10.8min\n",
      "[Parallel(n_jobs=-1)]: Done 8498 tasks      | elapsed: 12.8min\n",
      "[Parallel(n_jobs=-1)]: Done 9000 out of 9000 | elapsed: 13.5min finished\n"
     ]
    }
   ],
   "source": [
    "rforest = RandomForestClassifier(random_state=randomstate)\n",
    "\n",
    "hyperparam_dict = {'n_estimators':list(range(50,200,10)),\n",
    "                   'criterion':['gini', 'entropy'],\n",
    "                  'max_depth':list(range(2,8)),\n",
    "                  'min_samples_split':[.1, .15,.2,.25,.3],\n",
    "                  }\n",
    "\n",
    "\n",
    "grid = GridSearchCV(rforest,\n",
    "                   hyperparam_dict,\n",
    "                   scoring='roc_auc', \n",
    "                    n_jobs=-1, \n",
    "                    cv=10, verbose = 1)\n",
    "\n",
    "opt_grid = grid.fit(train_df.drop(columns='target'), train_df['target'])\n",
    "\n",
    "best_rf = opt_grid.best_estimator_"
   ]
  },
  {
   "cell_type": "code",
   "execution_count": 40,
   "metadata": {},
   "outputs": [
    {
     "data": {
      "text/plain": [
       "{'bootstrap': True,\n",
       " 'ccp_alpha': 0.0,\n",
       " 'class_weight': None,\n",
       " 'criterion': 'gini',\n",
       " 'max_depth': 2,\n",
       " 'max_features': 'auto',\n",
       " 'max_leaf_nodes': None,\n",
       " 'max_samples': None,\n",
       " 'min_impurity_decrease': 0.0,\n",
       " 'min_impurity_split': None,\n",
       " 'min_samples_leaf': 1,\n",
       " 'min_samples_split': 0.1,\n",
       " 'min_weight_fraction_leaf': 0.0,\n",
       " 'n_estimators': 50,\n",
       " 'n_jobs': None,\n",
       " 'oob_score': False,\n",
       " 'random_state': 12345,\n",
       " 'verbose': 0,\n",
       " 'warm_start': False}"
      ]
     },
     "execution_count": 40,
     "metadata": {},
     "output_type": "execute_result"
    }
   ],
   "source": [
    "best_rf.get_params()"
   ]
  },
  {
   "cell_type": "code",
   "execution_count": 41,
   "metadata": {},
   "outputs": [
    {
     "data": {
      "text/plain": [
       "0.9642857142857143"
      ]
     },
     "execution_count": 41,
     "metadata": {},
     "output_type": "execute_result"
    }
   ],
   "source": [
    "train_y_preds = best_rf.predict(train_df.drop(columns='target'))\n",
    "train_y_actual = train_df['target']\n",
    "\n",
    "roc_auc_score(train_y_actual, train_y_preds)"
   ]
  },
  {
   "cell_type": "markdown",
   "metadata": {},
   "source": [
    "Our Random Forest came very close to matching our decision tree. Given the lessened likelihood of overfitting with a Random Forest, we'll go ahead and use this model for our final predictions. "
   ]
  },
  {
   "cell_type": "markdown",
   "metadata": {},
   "source": [
    "# Evaluating against test data\n",
    "\n",
    "How does our best model perform on unseen data? Let's plot a confusion matrix and roc curve. "
   ]
  },
  {
   "cell_type": "code",
   "execution_count": 45,
   "metadata": {},
   "outputs": [
    {
     "data": {
      "text/plain": [
       "0.9"
      ]
     },
     "execution_count": 45,
     "metadata": {},
     "output_type": "execute_result"
    }
   ],
   "source": [
    "test_y_preds = best_rf.predict(test_df.drop(columns=['target']))\n",
    "test_y_actual = test_df['target']\n",
    "\n",
    "roc_auc_score(test_y_actual, test_y_preds)"
   ]
  },
  {
   "cell_type": "code",
   "execution_count": 50,
   "metadata": {},
   "outputs": [
    {
     "data": {
      "image/png": "[encoded data removed]",
      "text/plain": [
       "<Figure size 432x288 with 1 Axes>"
      ]
     },
     "metadata": {},
     "output_type": "display_data"
    }
   ],
   "source": [
    "plt.title('Confusion matrix of Random Forest on test data')\n",
    "sns.heatmap(confusion_matrix(test_y_actual, test_y_preds), annot=True, cbar=False)\n",
    "plt.ylabel('True labels')\n",
    "plt.xlabel('Predicted labels')\n",
    "plt.show();"
   ]
  },
  {
   "cell_type": "markdown",
   "metadata": {},
   "source": [
    "Based on the matrix above, our Random Forest has performed very well, only misclassifying 2 non-"
   ]
  }
 ],
 "metadata": {
  "kernelspec": {
   "display_name": "learn-env",
   "language": "python",
   "name": "learn-env"
  },
  "language_info": {
   "codemirror_mode": {
    "name": "ipython",
    "version": 3
   },
   "file_extension": ".py",
   "mimetype": "text/x-python",
   "name": "python",
   "nbconvert_exporter": "python",
   "pygments_lexer": "ipython3",
   "version": "3.6.10"
  }
 },
 "nbformat": 4,
 "nbformat_minor": 4
}
